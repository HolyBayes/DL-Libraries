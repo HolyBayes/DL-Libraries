{
  "nbformat": 4,
  "nbformat_minor": 0,
  "metadata": {
    "colab": {
      "name": "KerasSequentialModelPractice.ipynb",
      "version": "0.3.2",
      "provenance": [],
      "include_colab_link": true
    },
    "kernelspec": {
      "name": "python3",
      "display_name": "Python 3"
    }
  },
  "cells": [
    {
      "cell_type": "markdown",
      "metadata": {
        "id": "view-in-github",
        "colab_type": "text"
      },
      "source": [
        "<a href=\"https://colab.research.google.com/github/PhillySchoolofAI/DL-Libraries/blob/master/KerasSequentialModelPractice.ipynb\" target=\"_parent\"><img src=\"https://colab.research.google.com/assets/colab-badge.svg\" alt=\"Open In Colab\"/></a>"
      ]
    },
    {
      "metadata": {
        "id": "QyPmXA_DVSrn",
        "colab_type": "code",
        "colab": {
          "base_uri": "https://localhost:8080/",
          "height": 34
        },
        "outputId": "f0af61e0-b1ea-4fb1-e60d-14f992775a79"
      },
      "cell_type": "code",
      "source": [
        "import tensorflow as tf\n",
        "print (\"TensorFlow version: \" + tf.__version__)\n",
        "# Note you no longer need to import keras, use tf.keras instead\n"
      ],
      "execution_count": 2,
      "outputs": [
        {
          "output_type": "stream",
          "text": [
            "TensorFlow version: 1.13.0-rc1\n"
          ],
          "name": "stdout"
        }
      ]
    },
    {
      "metadata": {
        "id": "HMnL8XRvVzns",
        "colab_type": "code",
        "colab": {
          "base_uri": "https://localhost:8080/",
          "height": 34
        },
        "outputId": "8d5dc711-dd2a-4d36-c511-16ec2a68b51c"
      },
      "cell_type": "code",
      "source": [
        "import keras"
      ],
      "execution_count": 3,
      "outputs": [
        {
          "output_type": "stream",
          "text": [
            "Using TensorFlow backend.\n"
          ],
          "name": "stderr"
        }
      ]
    },
    {
      "metadata": {
        "id": "-97ymg4xV5sS",
        "colab_type": "code",
        "colab": {}
      },
      "cell_type": "code",
      "source": [
        "# Getting started with the Sequential model\n",
        "\n",
        "from keras.models import Sequential\n",
        "from keras.layers import Dense, Activation\n",
        "\n",
        "model = Sequential([\n",
        "    Dense(32, input_shape=(784,)),\n",
        "    Activation('relu'),\n",
        "    Dense(10),\n",
        "    Activation('softmax'),\n",
        "])"
      ],
      "execution_count": 0,
      "outputs": []
    },
    {
      "metadata": {
        "id": "tuN3IC9TWSk2",
        "colab_type": "code",
        "colab": {}
      },
      "cell_type": "code",
      "source": [
        "model = Sequential()\n",
        "model.add(Dense(32, input_dim=784))\n",
        "model.add(Activation('relu'))"
      ],
      "execution_count": 0,
      "outputs": []
    },
    {
      "metadata": {
        "id": "mwjc2SvXXdWW",
        "colab_type": "code",
        "colab": {}
      },
      "cell_type": "code",
      "source": [
        "# Compilation\n",
        "\n",
        "# For a multi-class classification problem\n",
        "model.compile(optimizer='rmsprop',\n",
        "              loss='categorical_crossentropy',\n",
        "              metrics=['accuracy'])\n",
        "\n",
        "# For a binary classification problem\n",
        "model.compile(optimizer='rmsprop',\n",
        "              loss='binary_crossentropy',\n",
        "              metrics=['accuracy'])\n",
        "\n",
        "# For a mean squared error regression problem\n",
        "model.compile(optimizer='rmsprop',\n",
        "              loss='mse')\n",
        "\n",
        "# For custom metrics\n",
        "import keras.backend as K\n",
        "\n",
        "def mean_pred(y_true, y_pred):\n",
        "    return K.mean(y_pred)\n",
        "\n",
        "model.compile(optimizer='rmsprop',\n",
        "              loss='binary_crossentropy',\n",
        "              metrics=['accuracy', mean_pred])"
      ],
      "execution_count": 0,
      "outputs": []
    },
    {
      "metadata": {
        "id": "KHGgfi3yX4Cu",
        "colab_type": "code",
        "colab": {
          "base_uri": "https://localhost:8080/",
          "height": 448
        },
        "outputId": "11cf9f1d-a436-41a1-fc10-51d06a4caf46"
      },
      "cell_type": "code",
      "source": [
        "# Training\n",
        "\n",
        "# For a single-input model with 2 classes (binary classification):\n",
        "\n",
        "model = Sequential()\n",
        "model.add(Dense(32, activation='relu', input_dim=100))\n",
        "model.add(Dense(1, activation='sigmoid'))\n",
        "model.compile(optimizer='rmsprop',\n",
        "              loss='binary_crossentropy',\n",
        "              metrics=['accuracy'])\n",
        "\n",
        "# Generate dummy data\n",
        "import numpy as np\n",
        "data = np.random.random((1000, 100))\n",
        "labels = np.random.randint(2, size=(1000, 1))\n",
        "\n",
        "# Train the model, iterating on the data in batches of 32 samples\n",
        "model.fit(data, labels, epochs=10, batch_size=32)"
      ],
      "execution_count": 13,
      "outputs": [
        {
          "output_type": "stream",
          "text": [
            "WARNING:tensorflow:From /usr/local/lib/python3.6/dist-packages/tensorflow/python/ops/math_ops.py:3066: to_int32 (from tensorflow.python.ops.math_ops) is deprecated and will be removed in a future version.\n",
            "Instructions for updating:\n",
            "Use tf.cast instead.\n",
            "Epoch 1/10\n",
            "1000/1000 [==============================] - 1s 751us/step - loss: 0.7159 - acc: 0.4840\n",
            "Epoch 2/10\n",
            "1000/1000 [==============================] - 0s 39us/step - loss: 0.7056 - acc: 0.4810\n",
            "Epoch 3/10\n",
            "1000/1000 [==============================] - 0s 39us/step - loss: 0.7001 - acc: 0.5090\n",
            "Epoch 4/10\n",
            "1000/1000 [==============================] - 0s 37us/step - loss: 0.6967 - acc: 0.5070\n",
            "Epoch 5/10\n",
            "1000/1000 [==============================] - 0s 37us/step - loss: 0.6917 - acc: 0.5240\n",
            "Epoch 6/10\n",
            "1000/1000 [==============================] - 0s 44us/step - loss: 0.6882 - acc: 0.5470\n",
            "Epoch 7/10\n",
            "1000/1000 [==============================] - 0s 39us/step - loss: 0.6832 - acc: 0.5580\n",
            "Epoch 8/10\n",
            "1000/1000 [==============================] - 0s 40us/step - loss: 0.6814 - acc: 0.5620\n",
            "Epoch 9/10\n",
            "1000/1000 [==============================] - 0s 39us/step - loss: 0.6778 - acc: 0.5790\n",
            "Epoch 10/10\n",
            "1000/1000 [==============================] - 0s 38us/step - loss: 0.6773 - acc: 0.5690\n"
          ],
          "name": "stdout"
        },
        {
          "output_type": "execute_result",
          "data": {
            "text/plain": [
              "<keras.callbacks.History at 0x7fb5f625f390>"
            ]
          },
          "metadata": {
            "tags": []
          },
          "execution_count": 13
        }
      ]
    },
    {
      "metadata": {
        "id": "VqxMP6xnYLyI",
        "colab_type": "code",
        "colab": {
          "base_uri": "https://localhost:8080/",
          "height": 374
        },
        "outputId": "705f4b92-4324-4f47-b182-e37907a44707"
      },
      "cell_type": "code",
      "source": [
        "# For a single-input model with 10 classes (categorical classification):\n",
        "\n",
        "model = Sequential()\n",
        "model.add(Dense(32, activation='relu', input_dim=100))\n",
        "model.add(Dense(10, activation='softmax'))\n",
        "model.compile(optimizer='rmsprop',\n",
        "              loss='categorical_crossentropy',\n",
        "              metrics=['accuracy'])\n",
        "\n",
        "# Generate dummy data\n",
        "import numpy as np\n",
        "data = np.random.random((1000, 100))\n",
        "labels = np.random.randint(10, size=(1000, 1))\n",
        "\n",
        "# Convert labels to categorical one-hot encoding\n",
        "one_hot_labels = keras.utils.to_categorical(labels, num_classes=10)\n",
        "\n",
        "# Train the model, iterating on the data in batches of 32 samples\n",
        "model.fit(data, one_hot_labels, epochs=10, batch_size=32)"
      ],
      "execution_count": 14,
      "outputs": [
        {
          "output_type": "stream",
          "text": [
            "Epoch 1/10\n",
            "1000/1000 [==============================] - 0s 237us/step - loss: 2.3953 - acc: 0.1160\n",
            "Epoch 2/10\n",
            "1000/1000 [==============================] - 0s 37us/step - loss: 2.3155 - acc: 0.1220\n",
            "Epoch 3/10\n",
            "1000/1000 [==============================] - 0s 40us/step - loss: 2.3032 - acc: 0.1220\n",
            "Epoch 4/10\n",
            "1000/1000 [==============================] - 0s 39us/step - loss: 2.2914 - acc: 0.1190\n",
            "Epoch 5/10\n",
            "1000/1000 [==============================] - 0s 42us/step - loss: 2.2823 - acc: 0.1390\n",
            "Epoch 6/10\n",
            "1000/1000 [==============================] - 0s 39us/step - loss: 2.2744 - acc: 0.1460\n",
            "Epoch 7/10\n",
            "1000/1000 [==============================] - 0s 40us/step - loss: 2.2656 - acc: 0.1480\n",
            "Epoch 8/10\n",
            "1000/1000 [==============================] - 0s 42us/step - loss: 2.2566 - acc: 0.1530\n",
            "Epoch 9/10\n",
            "1000/1000 [==============================] - 0s 38us/step - loss: 2.2488 - acc: 0.1680\n",
            "Epoch 10/10\n",
            "1000/1000 [==============================] - 0s 37us/step - loss: 2.2396 - acc: 0.1780\n"
          ],
          "name": "stdout"
        },
        {
          "output_type": "execute_result",
          "data": {
            "text/plain": [
              "<keras.callbacks.History at 0x7fb5f16beda0>"
            ]
          },
          "metadata": {
            "tags": []
          },
          "execution_count": 14
        }
      ]
    },
    {
      "metadata": {
        "id": "h0AYzt7CYhfm",
        "colab_type": "code",
        "colab": {}
      },
      "cell_type": "code",
      "source": [
        ""
      ],
      "execution_count": 0,
      "outputs": []
    }
  ]
}